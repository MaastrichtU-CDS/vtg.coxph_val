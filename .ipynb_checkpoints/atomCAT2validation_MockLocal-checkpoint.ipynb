{
 "cells": [
  {
   "cell_type": "code",
   "execution_count": null,
   "id": "69185852-90e0-4f51-b759-985dfb69373b",
   "metadata": {},
   "outputs": [],
   "source": [
    "import pandas as pd\n",
    "\n",
    "def c_index(data,betas,time_col,censor_col):\n",
    "    #data = pd.read_csv(\"filter_data.csv\", index_col=0)\n",
    "    print(\"ci\", data.head())\n",
    "    print(data.shape)\n",
    "    #print(censor_col)\n",
    "    data[str(censor_col)] = data[str(censor_col)].astype('bool')\n",
    "    #print(data[censor_col])\n",
    "    data[\"lp\"] = \"\"\n",
    "    lp_list=[]\n",
    "\n",
    "    mean_dict = {}\n",
    "    val_dict = {}\n",
    "    lp_val = {}\n",
    "    betas=dict(ChainMap(*betas))    \n",
    "    #print(betas)\n",
    "    #calculate linear predictor\n",
    "    lp = 0\n",
    "    for i, j in data.iterrows():\n",
    "        for key in betas:\n",
    "            val_dict[key] = j[key]\n",
    "            lp_val[key] = (val_dict[key]*betas[key])\n",
    "        lp = sum(lp_val.values())\n",
    "        exp_lp = math.exp(lp)\n",
    "        lp_list.append(exp_lp)\n",
    "    \n",
    "    data['lp']=lp_list\n",
    "\n",
    "    #calculate concordance index\n",
    "    result = concordance_index_censored(data[censor_col], data[time_col], data[\"lp\"])\n",
    "\n",
    "    cindex = result[0]\n",
    "\n",
    "    return cindex"
   ]
  },
  {
   "cell_type": "code",
   "execution_count": null,
   "id": "6101eb35-3d75-4e18-b74d-b1ba918e608f",
   "metadata": {},
   "outputs": [],
   "source": [
    "# Load CSV file\n",
    "data_f = pd.read_csv('SEER.csv')\n",
    "load_betas={dictionary}    #load the betas from trained vtg.coxph model\n",
    "censor_col= \"Censor\"\n",
    "time_col= \"Time\"\n"
   ]
  },
  {
   "cell_type": "code",
   "execution_count": null,
   "id": "694442f4-3d88-4e29-9173-bd4ddfcfbbb8",
   "metadata": {},
   "outputs": [],
   "source": [
    "concordance_index = c_index(data_f,betas,time_col,censor_col)"
   ]
  }
 ],
 "metadata": {
  "kernelspec": {
   "display_name": "Python 3 (ipykernel)",
   "language": "python",
   "name": "python3"
  },
  "language_info": {
   "codemirror_mode": {
    "name": "ipython",
    "version": 3
   },
   "file_extension": ".py",
   "mimetype": "text/x-python",
   "name": "python",
   "nbconvert_exporter": "python",
   "pygments_lexer": "ipython3",
   "version": "3.12.3"
  }
 },
 "nbformat": 4,
 "nbformat_minor": 5
}
