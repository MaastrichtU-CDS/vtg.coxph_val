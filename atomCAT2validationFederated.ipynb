{
 "cells": [
  {
   "cell_type": "code",
   "execution_count": 105,
   "metadata": {},
   "outputs": [],
   "source": [
    "from vantage6.client import Client\n",
    "import json\n",
    "\n",
    "client = Client(\"https://example_server_url\", 443, \"/api\")\n",
    "client.authenticate(\"example_username\", \"example_password\")\n",
    "client.setup_encryption(\"example_encruption.pem\")"
   ]
  },
  {
   "cell_type": "markdown",
   "metadata": {
    "tags": []
   },
   "source": [
    "# Primary models"
   ]
  },
  {
   "cell_type": "code",
   "execution_count": 14,
   "metadata": {},
   "outputs": [
    {
     "name": "stdout",
     "output_type": "stream",
     "text": [
      "{\n",
      "  \"initiator\": 2,\n",
      "  \"children\": null,\n",
      "  \"parent\": null,\n",
      "  \"name\": \"Overall survival primary model\",\n",
      "  \"database\": \"default\",\n",
      "  \"results\": [\n",
      "    {\n",
      "      \"id\": 40002,\n",
      "      \"link\": \"/api/result/40002\",\n",
      "      \"methods\": [\n",
      "        \"GET\",\n",
      "        \"PATCH\"\n",
      "      ]\n",
      "    }\n",
      "  ],\n",
      "  \"description\": \"atomCAT2 validation test\",\n",
      "  \"complete\": false,\n",
      "  \"run_id\": 6297,\n",
      "  \"collaboration\": {\n",
      "    \"id\": 1,\n",
      "    \"link\": \"/api/collaboration/1\",\n",
      "    \"methods\": [\n",
      "      \"GET\",\n",
      "      \"DELETE\",\n",
      "      \"PATCH\"\n",
      "    ]\n",
      "  },\n",
      "  \"image\": \"ananyac/coxph_val:atomcat2_filter\",\n",
      "  \"id\": 6861\n",
      "}\n"
     ]
    }
   ],
   "source": [
    "_input = {\n",
    "    'master': True,\n",
    "    'method':'master',\n",
    "    'args':[],\n",
    "    'kwargs':{'org_ids': list, 'filter_data':str(filter_value),\n",
    "              'betas':[dictionary], 'censor_col': censor_column_name, 'time_col':time_column_name}\n",
    "}\n",
    "\n",
    "task = client.task.create(\n",
    "    name=\"Overall survival primary model\",\n",
    "    description=\"atomCAT2 validation test\",\n",
    "    image=\"ananyac/coxph_val:atomcat2_filter\",\n",
    "    collaboration=1,\n",
    "    input = _input,\n",
    "    organizations=[2]\n",
    ")\n",
    "\n",
    "print(json.dumps(task, indent=2))"
   ]
  }
 ],
 "metadata": {
  "kernelspec": {
   "display_name": "Python 3 (ipykernel)",
   "language": "python",
   "name": "python3"
  },
  "language_info": {
   "codemirror_mode": {
    "name": "ipython",
    "version": 3
   },
   "file_extension": ".py",
   "mimetype": "text/x-python",
   "name": "python",
   "nbconvert_exporter": "python",
   "pygments_lexer": "ipython3",
   "version": "3.12.3"
  },
  "vscode": {
   "interpreter": {
    "hash": "476c6871ed4247f1089d19f6801b6151cbc70c3588df57f802c3702598c912b7"
   }
  }
 },
 "nbformat": 4,
 "nbformat_minor": 4
}
